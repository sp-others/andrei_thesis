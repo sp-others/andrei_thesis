{
 "cells": [
  {
   "cell_type": "code",
   "execution_count": null,
   "id": "80eca648",
   "metadata": {
    "is_executing": true,
    "ExecuteTime": {
     "start_time": "2024-01-05T08:11:36.878110479Z"
    }
   },
   "outputs": [
    {
     "name": "stdout",
     "output_type": "stream",
     "text": [
      "Looking in indexes: https://pypi.org/simple, https://pypi.ngc.nvidia.com\r\n",
      "Collecting pysindy\r\n",
      "  Downloading pysindy-1.7.5-py3-none-any.whl (121 kB)\r\n",
      "\u001B[2K     \u001B[90m━━━━━━━━━━━━━━━━━━━━━━━━━━━━━━━━━━━━━\u001B[0m \u001B[32m121.0/121.0 KB\u001B[0m \u001B[31m360.3 kB/s\u001B[0m eta \u001B[36m0:00:00\u001B[0ma \u001B[36m0:00:01\u001B[0m\r\n",
      "\u001B[?25hCollecting numpy\r\n",
      "  Downloading numpy-1.26.3-cp310-cp310-manylinux_2_17_x86_64.manylinux2014_x86_64.whl (18.2 MB)\r\n",
      "\u001B[2K     \u001B[90m━━━━━━━━━━━━━━━━━━━━━━━━━━━━━━━━━━━━━━━━\u001B[0m \u001B[32m18.2/18.2 MB\u001B[0m \u001B[31m8.4 MB/s\u001B[0m eta \u001B[36m0:00:00\u001B[0m00:01\u001B[0m00:01\u001B[0m\r\n",
      "\u001B[?25hCollecting pyGPGO\r\n",
      "  Downloading pyGPGO-0.5.1.tar.gz (14 kB)\r\n",
      "  Preparing metadata (setup.py) ... \u001B[?25ldone\r\n",
      "\u001B[?25hCollecting matplotlib\r\n",
      "  Downloading matplotlib-3.8.2-cp310-cp310-manylinux_2_17_x86_64.manylinux2014_x86_64.whl (11.6 MB)\r\n",
      "\u001B[2K     \u001B[90m━━━━━━━━━━━━━━━━━━━━━━━━━━━━━━━━━━━━━━━━\u001B[0m \u001B[32m11.6/11.6 MB\u001B[0m \u001B[31m11.3 MB/s\u001B[0m eta \u001B[36m0:00:00\u001B[0m \u001B[36m0:00:01\u001B[0mm\r\n",
      "\u001B[?25hCollecting scikit-learn\r\n",
      "  Downloading scikit_learn-1.3.2-cp310-cp310-manylinux_2_17_x86_64.manylinux2014_x86_64.whl (10.8 MB)\r\n",
      "\u001B[2K     \u001B[90m━━━━━━━━━━━━━━━━━━━━━━━━━━━━━━━━━━━━━━━━\u001B[0m \u001B[32m10.8/10.8 MB\u001B[0m \u001B[31m17.8 MB/s\u001B[0m eta \u001B[36m0:00:00\u001B[0ma \u001B[36m0:00:01\u001B[0m\r\n",
      "\u001B[?25hCollecting scipy\r\n",
      "  Downloading scipy-1.11.4-cp310-cp310-manylinux_2_17_x86_64.manylinux2014_x86_64.whl (36.4 MB)\r\n",
      "\u001B[2K     \u001B[90m━━━━━━━━━━━━━━━━━━━━━━━━━━━━━━━━━━━━━━━━\u001B[0m \u001B[32m36.4/36.4 MB\u001B[0m \u001B[31m12.7 MB/s\u001B[0m eta \u001B[36m0:00:00\u001B[0m00:01\u001B[0m00:01\u001B[0m\r\n",
      "\u001B[?25hCollecting pathlib\r\n",
      "  Downloading pathlib-1.0.1-py3-none-any.whl (14 kB)\r\n",
      "Collecting pandas\r\n",
      "  Downloading pandas-2.1.4-cp310-cp310-manylinux_2_17_x86_64.manylinux2014_x86_64.whl (12.3 MB)\r\n",
      "\u001B[2K     \u001B[90m━━━━━━━━━━━━━━━━━━━━━━━━━━━━━━━━━━━━━━━━\u001B[0m \u001B[32m12.3/12.3 MB\u001B[0m \u001B[31m19.1 MB/s\u001B[0m eta \u001B[36m0:00:00\u001B[0ma \u001B[36m0:00:01\u001B[0m\r\n",
      "\u001B[?25hCollecting cvxpy\r\n",
      "  Downloading cvxpy-1.4.1-cp310-cp310-manylinux_2_17_x86_64.manylinux2014_x86_64.whl (1.2 MB)\r\n",
      "\u001B[2K     \u001B[90m━━━━━━━━━━━━━━━━━━━━━━━━━━━━━━━━━━━━━━━━\u001B[0m \u001B[32m1.2/1.2 MB\u001B[0m \u001B[31m31.7 MB/s\u001B[0m eta \u001B[36m0:00:00\u001B[0ma \u001B[36m0:00:01\u001B[0m\r\n",
      "\u001B[?25hCollecting gurobipy\r\n",
      "  Downloading gurobipy-11.0.0-cp310-cp310-manylinux2014_x86_64.manylinux_2_17_x86_64.whl (13.4 MB)\r\n",
      "\u001B[2K     \u001B[90m━━━━━━━━━━━━━━━━━━━━━━━━━━━━━━━━━━━━━━━━\u001B[0m \u001B[32m13.4/13.4 MB\u001B[0m \u001B[31m16.8 MB/s\u001B[0m eta \u001B[36m0:00:00\u001B[0ma \u001B[36m0:00:01\u001B[0m\r\n",
      "\u001B[?25hCollecting scs!=2.1.4,>=2.1\r\n",
      "  Downloading scs-3.2.4.post1-cp310-cp310-manylinux_2_17_x86_64.manylinux2014_x86_64.whl (10.4 MB)\r\n",
      "\u001B[2K     \u001B[90m━━━━━━━━━━━━━━━━━━━━━━━━━━━━━━━━━━━━━━━━\u001B[0m \u001B[32m10.4/10.4 MB\u001B[0m \u001B[31m20.0 MB/s\u001B[0m eta \u001B[36m0:00:00\u001B[0m \u001B[36m0:00:01\u001B[0m\r\n",
      "\u001B[?25hCollecting derivative\r\n",
      "  Downloading derivative-0.6.0-py3-none-any.whl (14 kB)\r\n",
      "Collecting cmake\r\n",
      "  Downloading cmake-3.28.1-py2.py3-none-manylinux2014_x86_64.manylinux_2_17_x86_64.whl (26.3 MB)\r\n",
      "\u001B[2K     \u001B[90m━━━━━━━━━━━━━━━━━━━━━━━━━━━━━━━━━━━━━━━━\u001B[0m \u001B[32m26.3/26.3 MB\u001B[0m \u001B[31m18.2 MB/s\u001B[0m eta \u001B[36m0:00:00\u001B[0m00:01\u001B[0m00:01\u001B[0m\r\n",
      "\u001B[?25hCollecting Theano-PyMC\r\n",
      "  Downloading Theano-PyMC-1.1.2.tar.gz (1.8 MB)\r\n",
      "\u001B[2K     \u001B[90m━━━━━━━━━━━━━━━━━━━━━━━━━━━━━━━━━━━━━━━━\u001B[0m \u001B[32m1.8/1.8 MB\u001B[0m \u001B[31m15.9 MB/s\u001B[0m eta \u001B[36m0:00:00\u001B[0ma \u001B[36m0:00:01\u001B[0m\r\n",
      "\u001B[?25h  Preparing metadata (setup.py) ... \u001B[?25ldone\r\n",
      "\u001B[?25hCollecting joblib\r\n",
      "  Downloading joblib-1.3.2-py3-none-any.whl (302 kB)\r\n",
      "\u001B[2K     \u001B[90m━━━━━━━━━━━━━━━━━━━━━━━━━━━━━━━━━━━━━━\u001B[0m \u001B[32m302.2/302.2 KB\u001B[0m \u001B[31m14.6 MB/s\u001B[0m eta \u001B[36m0:00:00\u001B[0m\r\n",
      "\u001B[?25hCollecting mkl\r\n",
      "  Downloading mkl-2024.0.0-py2.py3-none-manylinux1_x86_64.whl (200.7 MB)\r\n",
      "\u001B[2K     \u001B[90m━━━━━━━━━━━━━━━━━━━━━━━━━━━━━━━━━━━━━━\u001B[0m \u001B[32m200.7/200.7 MB\u001B[0m \u001B[31m11.8 MB/s\u001B[0m eta \u001B[36m0:00:00\u001B[0m00:01\u001B[0m00:01\u001B[0m\r\n",
      "\u001B[?25hCollecting pyMC3\r\n",
      "  Downloading pymc3-3.11.5-py3-none-any.whl (872 kB)\r\n",
      "\u001B[2K     \u001B[90m━━━━━━━━━━━━━━━━━━━━━━━━━━━━━━━━━━━━━━\u001B[0m \u001B[32m872.2/872.2 KB\u001B[0m \u001B[31m21.7 MB/s\u001B[0m eta \u001B[36m0:00:00\u001B[0ma \u001B[36m0:00:01\u001B[0m\r\n",
      "\u001B[?25hRequirement already satisfied: packaging>=20.0 in ./venv/lib/python3.10/site-packages (from matplotlib) (23.2)\r\n",
      "Collecting pyparsing>=2.3.1\r\n",
      "  Downloading pyparsing-3.1.1-py3-none-any.whl (103 kB)\r\n",
      "\u001B[2K     \u001B[90m━━━━━━━━━━━━━━━━━━━━━━━━━━━━━━━━━━━━━\u001B[0m \u001B[32m103.1/103.1 KB\u001B[0m \u001B[31m185.9 MB/s\u001B[0m eta \u001B[36m0:00:00\u001B[0m\r\n",
      "\u001B[?25hCollecting fonttools>=4.22.0\r\n",
      "  Downloading fonttools-4.47.0-cp310-cp310-manylinux_2_17_x86_64.manylinux2014_x86_64.whl (4.6 MB)\r\n",
      "\u001B[2K     \u001B[90m━━━━━━━━━━━━━━━━━━━━━━━━━━━━━━━━━━━━━━━━\u001B[0m \u001B[32m4.6/4.6 MB\u001B[0m \u001B[31m20.7 MB/s\u001B[0m eta \u001B[36m0:00:00\u001B[0ma \u001B[36m0:00:01\u001B[0m\r\n",
      "\u001B[?25h"
     ]
    }
   ],
   "source": [
    "!pip install pysindy numpy pyGPGO matplotlib scikit-learn scipy pathlib pandas cvxpy gurobipy\n",
    "#installing all dependencies"
   ]
  },
  {
   "cell_type": "code",
   "execution_count": 3,
   "id": "3896d5a5",
   "metadata": {
    "scrolled": false
   },
   "outputs": [],
   "source": [
    "import numpy as np\n",
    "import matplotlib.pyplot as plst\n",
    "from mpl_toolkits import mplot3d\n",
    "import pysindy as ps\n",
    "import random\n",
    "import pyGPGO\n",
    "from pysindy import PolynomialLibrary, FourierLibrary \n",
    "from pyGPGO.surrogates.GaussianProcess import GaussianProcess\n",
    "from pyGPGO.covfunc import squaredExponential\n",
    "from pyGPGO.acquisition import Acquisition\n",
    "from pyGPGO.GPGO import GPGO\n",
    "from sklearn.metrics import mean_squared_error\n",
    "#importing necessary modules"
   ]
  },
  {
   "cell_type": "code",
   "execution_count": 4,
   "id": "84b0956c",
   "metadata": {},
   "outputs": [],
   "source": [
    "random_integers = [random.randint(1, 100000) for _ in range(1000)]\n",
    "\n",
    "def err(param1, param2):\n",
    "\n",
    "    #data_set = []\n",
    "   # for it in range(1000):\n",
    "   #     data_set.append(it)\n",
    "    x = np.array(random_integers)\n",
    "    time = np.linspace(0,1,1000)\n",
    "    \n",
    "    \n",
    "#     model = ps.SINDy(feature_names=[\"x\"])\n",
    "#     model.fit(x,t = time)\n",
    "#     x_derivative = model.differentiate(x)\n",
    "\n",
    "    x_data = x\n",
    "#    x_data_derivative = x_derivative\n",
    "    \n",
    "    differentiation_method = ps.FiniteDifference(order=2)\n",
    "    \n",
    "    poly_lib = ps.PolynomialLibrary(degree=int(param1))   \n",
    "    trig_lib = ps.FourierLibrary(n_frequencies=int(param2)) \n",
    "    \n",
    "    \n",
    "    custom_lib = poly_lib + trig_lib\n",
    "    feature_library = custom_lib\n",
    "    \n",
    "    optimizer = ps.STLSQ(threshold=0.2)\n",
    "    \n",
    "    model = ps.SINDy(\n",
    "    differentiation_method=differentiation_method,\n",
    "    feature_library=custom_lib,\n",
    "    optimizer=optimizer,\n",
    "    feature_names=[\"x\"])\n",
    "    model.fit(x_data,t = time)\n",
    "    alpha = 1\n",
    "    score = model.score(x_data,metric = mean_squared_error) # + alpha * complexity\n",
    "    # ++ complexity\n",
    "    \n",
    "    return score\n",
    "\n",
    "#defining the objective function which takes as inputs the degree and frequency of the libraries\n",
    "#pentru fiecare pereche param1 si param2, functia err va calcula cu score eroarea dintre aproximarea facuta de model\n",
    "#si derivata reala"
   ]
  },
  {
   "cell_type": "code",
   "execution_count": 5,
   "id": "df526d41",
   "metadata": {
    "scrolled": false
   },
   "outputs": [
    {
     "name": "stdout",
     "output_type": "stream",
     "text": [
      "Evaluation \t Proposed point \t  Current eval. \t Best eval.\n",
      "init   \t [85. 42.]. \t  21200090293.302906 \t 21200090293.302906\n",
      "init   \t [75. 56.]. \t  21200090293.302906 \t 21200090293.302906\n",
      "init   \t [33. 78.]. \t  21200090293.302906 \t 21200090293.302906\n",
      "1      \t [93. 41.]. \t  \u001B[92m21200090293.302906\u001B[0m \t 21200090293.302906\n",
      "2      \t [56. 79.]. \t  \u001B[92m21200090293.302906\u001B[0m \t 21200090293.302906\n",
      "[2.12000903e+10 2.12000903e+10 2.12000903e+10 2.12000903e+10\n",
      " 2.12000903e+10]\n"
     ]
    }
   ],
   "source": [
    "#domeniu1 = np.arange(1, 101)\n",
    "#domeniu2 = np.arange(1, 101)\n",
    "\n",
    "cov = squaredExponential()\n",
    "surogate = GaussianProcess(cov)\n",
    "acq = Acquisition(mode = 'ExpectedImprovement')\n",
    "params = {'param1' : ('int',[2,100]),\n",
    "          'param2' : ('int',[2,100])}\n",
    "np.random.seed(23)\n",
    "gpgo = GPGO(surogate, acq, err,params)\n",
    "\n",
    "gpgo.run(max_iter = 2)\n",
    "print(gpgo.GP.y)\n",
    "\n"
   ]
  },
  {
   "cell_type": "code",
   "execution_count": 7,
   "id": "6f84434b",
   "metadata": {},
   "outputs": [
    {
     "ename": "SyntaxError",
     "evalue": "EOL while scanning string literal (2960107327.py, line 31)",
     "output_type": "error",
     "traceback": [
      "\u001B[1;36m  Cell \u001B[1;32mIn[7], line 31\u001B[1;36m\u001B[0m\n\u001B[1;33m    \"\"\"\"\u001B[0m\n\u001B[1;37m        \n^\u001B[0m\n\u001B[1;31mSyntaxError\u001B[0m\u001B[1;31m:\u001B[0m EOL while scanning string literal\n"
     ]
    }
   ],
   "source": [
    "\"\"\"import numpy as np\n",
    "import matplotlib.pyplot as plt\n",
    "from mpl_toolkits import mplot3d\n",
    "\n",
    "param1_values = np.arange(2, 101)\n",
    "param2_values = np.arange(2, 101)\n",
    "\n",
    "param1, param2 = np.meshgrid(param1_values, param2_values)\n",
    "\n",
    "# Initialize an array to store the error values\n",
    "errors = np.zeros_like(param1, dtype=float)\n",
    "\n",
    "# Calculate the error for each combination of param1 and param2\n",
    "for i in range(len(param1_values)):\n",
    "    for j in range(len(param2_values)):\n",
    "        errors[i, j] = err(param1_values[i], param2_values[j])\n",
    "\n",
    "# Create a 3D plot\n",
    "fig = plt.figure()\n",
    "ax = fig.add_subplot(111, projection='3d')\n",
    "ax.plot_surface(param1, param2, errors, cmap='viridis')\n",
    "\n",
    "# Add labels and title\n",
    "ax.set_xlabel('Ordin Polinom')\n",
    "ax.set_ylabel('Ordin Trigonometric')\n",
    "ax.set_zlabel('Error')\n",
    "ax.set_title('Eroarea in 3D')\n",
    "\n",
    "# Show the plot\n",
    "plt.show()\n",
    "\"\"\"\""
   ]
  },
  {
   "cell_type": "code",
   "execution_count": null,
   "id": "988aeae2",
   "metadata": {},
   "outputs": [],
   "source": []
  }
 ],
 "metadata": {
  "kernelspec": {
   "name": "python3",
   "language": "python",
   "display_name": "Python 3 (ipykernel)"
  },
  "language_info": {
   "codemirror_mode": {
    "name": "ipython",
    "version": 3
   },
   "file_extension": ".py",
   "mimetype": "text/x-python",
   "name": "python",
   "nbconvert_exporter": "python",
   "pygments_lexer": "ipython3",
   "version": "3.9.13"
  }
 },
 "nbformat": 4,
 "nbformat_minor": 5
}
